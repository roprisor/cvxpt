{
 "cells": [
  {
   "cell_type": "markdown",
   "metadata": {},
   "source": [
    "# S&P 100 - Fama French 5 Factor Model"
   ]
  },
  {
   "cell_type": "code",
   "execution_count": 1,
   "metadata": {},
   "outputs": [],
   "source": [
    "import os\n",
    "import sys\n",
    "sys.path.insert(0, os.path.abspath('..'))"
   ]
  },
  {
   "cell_type": "code",
   "execution_count": 3,
   "metadata": {},
   "outputs": [
    {
     "name": "stdout",
     "output_type": "stream",
     "text": [
      "The autoreload extension is already loaded. To reload it, use:\n",
      "  %reload_ext autoreload\n"
     ]
    }
   ],
   "source": [
    "%load_ext autoreload\n",
    "%autoreload 2\n",
    "%matplotlib inline\n",
    "\n",
    "import pandas as pd\n",
    "import numpy as np\n",
    "import matplotlib.pyplot as plt\n",
    "import cvxportfolio as cp\n",
    "\n",
    "datadir='../../data/'\n",
    "\n",
    "sigmas=pd.read_csv(datadir+'ff_sigmas.csv.gz',index_col=0,parse_dates=[0])\n",
    "returns=pd.read_csv(datadir+'ff_returns.csv.gz',index_col=0,parse_dates=[0])\n",
    "volumes=pd.read_csv(datadir+'ff_volumes.csv.gz',index_col=0,parse_dates=[0])\n",
    "\n",
    "w_b = pd.Series(index=returns.columns, data=1)\n",
    "w_b.USDOLLAR = 0.\n",
    "w_b/=sum(w_b)\n",
    "\n",
    "start_t=\"2016-04-01\"\n",
    "end_t=\"2018-12-31\"\n",
    "\n",
    "simulated_tcost = cp.TcostModel(half_spread=0.0005/2., nonlin_coeff=1., sigma=sigmas, volume=volumes)\n",
    "simulated_hcost = cp.HcostModel(borrow_costs=0.0001)\n",
    "simulator = cp.MarketSimulator(returns, costs=[simulated_tcost, simulated_hcost],\n",
    "                               market_volumes=volumes, cash_key='USDOLLAR')\n",
    "\n",
    "estimate_data = pd.HDFStore(datadir+'ff_model.h5')\n",
    "\n",
    "optimization_tcost = cp.TcostModel(half_spread=0.0005/2., nonlin_coeff=1.,\n",
    "                                   sigma=estimate_data.sigma_estimate,\n",
    "                                   volume=estimate_data.volume_estimate)\n",
    "optimization_hcost=cp.HcostModel(borrow_costs=0.0001)\n",
    "\n",
    "risk_model = cp.FactorModelSigma(estimate_data.exposures, estimate_data.factor_sigma, estimate_data.idyos)\n",
    "\n",
    "results={}"
   ]
  },
  {
   "cell_type": "markdown",
   "metadata": {},
   "source": [
    "# SPO Pareto search "
   ]
  },
  {
   "cell_type": "code",
   "execution_count": 4,
   "metadata": {},
   "outputs": [],
   "source": [
    "results_pareto={}"
   ]
  },
  {
   "cell_type": "markdown",
   "metadata": {},
   "source": [
    "### Sparse Pareto"
   ]
  },
  {
   "cell_type": "code",
   "execution_count": 5,
   "metadata": {},
   "outputs": [
    {
     "name": "stdout",
     "output_type": "stream",
     "text": [
      "CPU times: user 503 ms, sys: 300 ms, total: 802 ms\n",
      "Wall time: 1min 50s\n"
     ]
    }
   ],
   "source": [
    "%%time\n",
    "policies={}\n",
    "gamma_risks_pareto=[50, 250]\n",
    "gamma_tcosts_pareto=[5, 50]\n",
    "gamma_holdings=[5, 50]\n",
    "\n",
    "for gamma_risk in gamma_risks_pareto:\n",
    "    for gamma_tcost in gamma_tcosts_pareto : \n",
    "        for gamma_holding in gamma_holdings:\n",
    "            policies[(gamma_risk, gamma_tcost, gamma_holding)] = \\\n",
    "          cp.SinglePeriodOpt(estimate_data.return_estimate,\n",
    "                             [gamma_risk*risk_model,gamma_tcost*optimization_tcost,\\\n",
    "                                       gamma_holding*optimization_hcost], \n",
    "                                [cp.LeverageLimit(3)])\n",
    "\n",
    "import warnings\n",
    "warnings.filterwarnings('ignore')\n",
    "results_pareto.update(dict(zip(policies.keys(),\n",
    "                               simulator.run_multiple_backtest(1E8*w_b, start_time=start_t, end_time=end_t,\n",
    "                                                               policies=policies.values(), parallel=True))))"
   ]
  },
  {
   "cell_type": "code",
   "execution_count": 6,
   "metadata": {
    "scrolled": true
   },
   "outputs": [
    {
     "data": {
      "text/html": [
       "<style  type=\"text/css\" >\n",
       "</style><table id=\"T_e3f74d6c_246e_11ea_a105_784f4382e058\" ><thead>    <tr>        <th class=\"blank level0\" ></th>        <th class=\"col_heading level0 col0\" >$\\gamma^\\mathrm{risk}$</th>        <th class=\"col_heading level0 col1\" >$\\gamma^\\mathrm{trade}$</th>        <th class=\"col_heading level0 col2\" >$\\gamma^\\mathrm{hold}$</th>        <th class=\"col_heading level0 col3\" >Return</th>        <th class=\"col_heading level0 col4\" >Risk</th>        <th class=\"col_heading level0 col5\" >is_pareto</th>    </tr></thead><tbody>\n",
       "                <tr>\n",
       "                        <th id=\"T_e3f74d6c_246e_11ea_a105_784f4382e058level0_row0\" class=\"row_heading level0 row0\" >0</th>\n",
       "                        <td id=\"T_e3f74d6c_246e_11ea_a105_784f4382e058row0_col0\" class=\"data row0 col0\" >50</td>\n",
       "                        <td id=\"T_e3f74d6c_246e_11ea_a105_784f4382e058row0_col1\" class=\"data row0 col1\" >5</td>\n",
       "                        <td id=\"T_e3f74d6c_246e_11ea_a105_784f4382e058row0_col2\" class=\"data row0 col2\" >5</td>\n",
       "                        <td id=\"T_e3f74d6c_246e_11ea_a105_784f4382e058row0_col3\" class=\"data row0 col3\" >3.18%</td>\n",
       "                        <td id=\"T_e3f74d6c_246e_11ea_a105_784f4382e058row0_col4\" class=\"data row0 col4\" >15.29%</td>\n",
       "                        <td id=\"T_e3f74d6c_246e_11ea_a105_784f4382e058row0_col5\" class=\"data row0 col5\" >False</td>\n",
       "            </tr>\n",
       "            <tr>\n",
       "                        <th id=\"T_e3f74d6c_246e_11ea_a105_784f4382e058level0_row1\" class=\"row_heading level0 row1\" >1</th>\n",
       "                        <td id=\"T_e3f74d6c_246e_11ea_a105_784f4382e058row1_col0\" class=\"data row1 col0\" >50</td>\n",
       "                        <td id=\"T_e3f74d6c_246e_11ea_a105_784f4382e058row1_col1\" class=\"data row1 col1\" >5</td>\n",
       "                        <td id=\"T_e3f74d6c_246e_11ea_a105_784f4382e058row1_col2\" class=\"data row1 col2\" >50</td>\n",
       "                        <td id=\"T_e3f74d6c_246e_11ea_a105_784f4382e058row1_col3\" class=\"data row1 col3\" >7.42%</td>\n",
       "                        <td id=\"T_e3f74d6c_246e_11ea_a105_784f4382e058row1_col4\" class=\"data row1 col4\" >13.31%</td>\n",
       "                        <td id=\"T_e3f74d6c_246e_11ea_a105_784f4382e058row1_col5\" class=\"data row1 col5\" >True</td>\n",
       "            </tr>\n",
       "            <tr>\n",
       "                        <th id=\"T_e3f74d6c_246e_11ea_a105_784f4382e058level0_row2\" class=\"row_heading level0 row2\" >2</th>\n",
       "                        <td id=\"T_e3f74d6c_246e_11ea_a105_784f4382e058row2_col0\" class=\"data row2 col0\" >250</td>\n",
       "                        <td id=\"T_e3f74d6c_246e_11ea_a105_784f4382e058row2_col1\" class=\"data row2 col1\" >5</td>\n",
       "                        <td id=\"T_e3f74d6c_246e_11ea_a105_784f4382e058row2_col2\" class=\"data row2 col2\" >5</td>\n",
       "                        <td id=\"T_e3f74d6c_246e_11ea_a105_784f4382e058row2_col3\" class=\"data row2 col3\" >0.48%</td>\n",
       "                        <td id=\"T_e3f74d6c_246e_11ea_a105_784f4382e058row2_col4\" class=\"data row2 col4\" >8.62%</td>\n",
       "                        <td id=\"T_e3f74d6c_246e_11ea_a105_784f4382e058row2_col5\" class=\"data row2 col5\" >False</td>\n",
       "            </tr>\n",
       "            <tr>\n",
       "                        <th id=\"T_e3f74d6c_246e_11ea_a105_784f4382e058level0_row3\" class=\"row_heading level0 row3\" >3</th>\n",
       "                        <td id=\"T_e3f74d6c_246e_11ea_a105_784f4382e058row3_col0\" class=\"data row3 col0\" >50</td>\n",
       "                        <td id=\"T_e3f74d6c_246e_11ea_a105_784f4382e058row3_col1\" class=\"data row3 col1\" >50</td>\n",
       "                        <td id=\"T_e3f74d6c_246e_11ea_a105_784f4382e058row3_col2\" class=\"data row3 col2\" >50</td>\n",
       "                        <td id=\"T_e3f74d6c_246e_11ea_a105_784f4382e058row3_col3\" class=\"data row3 col3\" >6.13%</td>\n",
       "                        <td id=\"T_e3f74d6c_246e_11ea_a105_784f4382e058row3_col4\" class=\"data row3 col4\" >7.95%</td>\n",
       "                        <td id=\"T_e3f74d6c_246e_11ea_a105_784f4382e058row3_col5\" class=\"data row3 col5\" >True</td>\n",
       "            </tr>\n",
       "            <tr>\n",
       "                        <th id=\"T_e3f74d6c_246e_11ea_a105_784f4382e058level0_row4\" class=\"row_heading level0 row4\" >4</th>\n",
       "                        <td id=\"T_e3f74d6c_246e_11ea_a105_784f4382e058row4_col0\" class=\"data row4 col0\" >50</td>\n",
       "                        <td id=\"T_e3f74d6c_246e_11ea_a105_784f4382e058row4_col1\" class=\"data row4 col1\" >50</td>\n",
       "                        <td id=\"T_e3f74d6c_246e_11ea_a105_784f4382e058row4_col2\" class=\"data row4 col2\" >5</td>\n",
       "                        <td id=\"T_e3f74d6c_246e_11ea_a105_784f4382e058row4_col3\" class=\"data row4 col3\" >5.66%</td>\n",
       "                        <td id=\"T_e3f74d6c_246e_11ea_a105_784f4382e058row4_col4\" class=\"data row4 col4\" >7.93%</td>\n",
       "                        <td id=\"T_e3f74d6c_246e_11ea_a105_784f4382e058row4_col5\" class=\"data row4 col5\" >True</td>\n",
       "            </tr>\n",
       "            <tr>\n",
       "                        <th id=\"T_e3f74d6c_246e_11ea_a105_784f4382e058level0_row5\" class=\"row_heading level0 row5\" >5</th>\n",
       "                        <td id=\"T_e3f74d6c_246e_11ea_a105_784f4382e058row5_col0\" class=\"data row5 col0\" >250</td>\n",
       "                        <td id=\"T_e3f74d6c_246e_11ea_a105_784f4382e058row5_col1\" class=\"data row5 col1\" >5</td>\n",
       "                        <td id=\"T_e3f74d6c_246e_11ea_a105_784f4382e058row5_col2\" class=\"data row5 col2\" >50</td>\n",
       "                        <td id=\"T_e3f74d6c_246e_11ea_a105_784f4382e058row5_col3\" class=\"data row5 col3\" >1.22%</td>\n",
       "                        <td id=\"T_e3f74d6c_246e_11ea_a105_784f4382e058row5_col4\" class=\"data row5 col4\" >4.55%</td>\n",
       "                        <td id=\"T_e3f74d6c_246e_11ea_a105_784f4382e058row5_col5\" class=\"data row5 col5\" >True</td>\n",
       "            </tr>\n",
       "            <tr>\n",
       "                        <th id=\"T_e3f74d6c_246e_11ea_a105_784f4382e058level0_row6\" class=\"row_heading level0 row6\" >6</th>\n",
       "                        <td id=\"T_e3f74d6c_246e_11ea_a105_784f4382e058row6_col0\" class=\"data row6 col0\" >250</td>\n",
       "                        <td id=\"T_e3f74d6c_246e_11ea_a105_784f4382e058row6_col1\" class=\"data row6 col1\" >50</td>\n",
       "                        <td id=\"T_e3f74d6c_246e_11ea_a105_784f4382e058row6_col2\" class=\"data row6 col2\" >5</td>\n",
       "                        <td id=\"T_e3f74d6c_246e_11ea_a105_784f4382e058row6_col3\" class=\"data row6 col3\" >-0.57%</td>\n",
       "                        <td id=\"T_e3f74d6c_246e_11ea_a105_784f4382e058row6_col4\" class=\"data row6 col4\" >4.17%</td>\n",
       "                        <td id=\"T_e3f74d6c_246e_11ea_a105_784f4382e058row6_col5\" class=\"data row6 col5\" >False</td>\n",
       "            </tr>\n",
       "            <tr>\n",
       "                        <th id=\"T_e3f74d6c_246e_11ea_a105_784f4382e058level0_row7\" class=\"row_heading level0 row7\" >7</th>\n",
       "                        <td id=\"T_e3f74d6c_246e_11ea_a105_784f4382e058row7_col0\" class=\"data row7 col0\" >250</td>\n",
       "                        <td id=\"T_e3f74d6c_246e_11ea_a105_784f4382e058row7_col1\" class=\"data row7 col1\" >50</td>\n",
       "                        <td id=\"T_e3f74d6c_246e_11ea_a105_784f4382e058row7_col2\" class=\"data row7 col2\" >50</td>\n",
       "                        <td id=\"T_e3f74d6c_246e_11ea_a105_784f4382e058row7_col3\" class=\"data row7 col3\" >0.56%</td>\n",
       "                        <td id=\"T_e3f74d6c_246e_11ea_a105_784f4382e058row7_col4\" class=\"data row7 col4\" >3.78%</td>\n",
       "                        <td id=\"T_e3f74d6c_246e_11ea_a105_784f4382e058row7_col5\" class=\"data row7 col5\" >True</td>\n",
       "            </tr>\n",
       "    </tbody></table>"
      ],
      "text/plain": [
       "<pandas.io.formats.style.Styler at 0x8184659b0>"
      ]
     },
     "execution_count": 6,
     "metadata": {},
     "output_type": "execute_result"
    }
   ],
   "source": [
    "table=pd.DataFrame()\n",
    "table[r'$\\gamma^\\mathrm{risk}$']=[el[0] for el in results_pareto.keys()]\n",
    "table[r'$\\gamma^\\mathrm{trade}$']=[el[1] for el in results_pareto.keys()]\n",
    "table[r'$\\gamma^\\mathrm{hold}$']=['%g'%el[2] for el in results_pareto.keys()]\n",
    "table['Return']=[(results_pareto[k].excess_returns.mean()*250) for k in results_pareto.keys()]\n",
    "table['Risk']=[(results_pareto[k].excess_returns.std()*np.sqrt(250)) for k in results_pareto.keys()]\n",
    "table = table.sort_values('Risk', ascending=False).reset_index()\n",
    "del table['index']\n",
    "is_pareto = lambda i: table.loc[i,'Return']>=max(table.ix[i:].Return)\n",
    "table['is_pareto'] = [is_pareto(i) for i in range(len(table))]\n",
    "table.to_csv(datadir+'ff_spo_pareto_results.csv', float_format='%g')\n",
    "table.style.format({'Return': \"{:.2%}\", 'Risk': '{:.2%}'})"
   ]
  },
  {
   "cell_type": "markdown",
   "metadata": {},
   "source": [
    "## Efficient Frontier"
   ]
  },
  {
   "cell_type": "code",
   "execution_count": 7,
   "metadata": {},
   "outputs": [
    {
     "data": {
      "image/png": "[encoded data removed]",
      "text/plain": [
       "<Figure size 1080x504 with 1 Axes>"
      ]
     },
     "metadata": {
      "needs_background": "light"
     },
     "output_type": "display_data"
    }
   ],
   "source": [
    "plt.figure(figsize=(15,7))\n",
    "plt.scatter(table.Risk.values,table.Return.values)\n",
    "plt.plot(table[table.is_pareto].Risk,table[table.is_pareto].Return, 'C1.-', label='Pareto optimal frontier')\n",
    "plt.legend( loc='lower right')\n",
    "plt.xlabel('Risk')\n",
    "plt.ylabel('Return')\n",
    "plt.xlim([0,0.75])\n",
    "plt.ylim([0,0.6])\n",
    "\n",
    "import matplotlib.ticker as mtick\n",
    "ax = plt.gca()\n",
    "ax.xaxis.set_major_formatter(mtick.FormatStrFormatter('%.2f'))\n",
    "ax.yaxis.set_major_formatter(mtick.FormatStrFormatter('%.2f'))\n",
    "\n",
    "plt.savefig('ff_spo_pareto.png')"
   ]
  },
  {
   "cell_type": "code",
   "execution_count": 8,
   "metadata": {},
   "outputs": [
    {
     "data": {
      "text/html": [
       "<style  type=\"text/css\" >\n",
       "</style><table id=\"T_e42c6ac4_246e_11ea_a105_784f4382e058\" ><thead>    <tr>        <th class=\"blank level0\" ></th>        <th class=\"col_heading level0 col0\" >$\\gamma^\\mathrm{risk}$</th>        <th class=\"col_heading level0 col1\" >$\\gamma^\\mathrm{trade}$</th>        <th class=\"col_heading level0 col2\" >$\\gamma^\\mathrm{hold}$</th>        <th class=\"col_heading level0 col3\" >Return</th>        <th class=\"col_heading level0 col4\" >Risk</th>    </tr></thead><tbody>\n",
       "                <tr>\n",
       "                        <th id=\"T_e42c6ac4_246e_11ea_a105_784f4382e058level0_row0\" class=\"row_heading level0 row0\" >1</th>\n",
       "                        <td id=\"T_e42c6ac4_246e_11ea_a105_784f4382e058row0_col0\" class=\"data row0 col0\" >50</td>\n",
       "                        <td id=\"T_e42c6ac4_246e_11ea_a105_784f4382e058row0_col1\" class=\"data row0 col1\" >5</td>\n",
       "                        <td id=\"T_e42c6ac4_246e_11ea_a105_784f4382e058row0_col2\" class=\"data row0 col2\" >50</td>\n",
       "                        <td id=\"T_e42c6ac4_246e_11ea_a105_784f4382e058row0_col3\" class=\"data row0 col3\" >7.42%</td>\n",
       "                        <td id=\"T_e42c6ac4_246e_11ea_a105_784f4382e058row0_col4\" class=\"data row0 col4\" >13.31%</td>\n",
       "            </tr>\n",
       "            <tr>\n",
       "                        <th id=\"T_e42c6ac4_246e_11ea_a105_784f4382e058level0_row1\" class=\"row_heading level0 row1\" >3</th>\n",
       "                        <td id=\"T_e42c6ac4_246e_11ea_a105_784f4382e058row1_col0\" class=\"data row1 col0\" >50</td>\n",
       "                        <td id=\"T_e42c6ac4_246e_11ea_a105_784f4382e058row1_col1\" class=\"data row1 col1\" >50</td>\n",
       "                        <td id=\"T_e42c6ac4_246e_11ea_a105_784f4382e058row1_col2\" class=\"data row1 col2\" >50</td>\n",
       "                        <td id=\"T_e42c6ac4_246e_11ea_a105_784f4382e058row1_col3\" class=\"data row1 col3\" >6.13%</td>\n",
       "                        <td id=\"T_e42c6ac4_246e_11ea_a105_784f4382e058row1_col4\" class=\"data row1 col4\" >7.95%</td>\n",
       "            </tr>\n",
       "            <tr>\n",
       "                        <th id=\"T_e42c6ac4_246e_11ea_a105_784f4382e058level0_row2\" class=\"row_heading level0 row2\" >4</th>\n",
       "                        <td id=\"T_e42c6ac4_246e_11ea_a105_784f4382e058row2_col0\" class=\"data row2 col0\" >50</td>\n",
       "                        <td id=\"T_e42c6ac4_246e_11ea_a105_784f4382e058row2_col1\" class=\"data row2 col1\" >50</td>\n",
       "                        <td id=\"T_e42c6ac4_246e_11ea_a105_784f4382e058row2_col2\" class=\"data row2 col2\" >5</td>\n",
       "                        <td id=\"T_e42c6ac4_246e_11ea_a105_784f4382e058row2_col3\" class=\"data row2 col3\" >5.66%</td>\n",
       "                        <td id=\"T_e42c6ac4_246e_11ea_a105_784f4382e058row2_col4\" class=\"data row2 col4\" >7.93%</td>\n",
       "            </tr>\n",
       "            <tr>\n",
       "                        <th id=\"T_e42c6ac4_246e_11ea_a105_784f4382e058level0_row3\" class=\"row_heading level0 row3\" >5</th>\n",
       "                        <td id=\"T_e42c6ac4_246e_11ea_a105_784f4382e058row3_col0\" class=\"data row3 col0\" >250</td>\n",
       "                        <td id=\"T_e42c6ac4_246e_11ea_a105_784f4382e058row3_col1\" class=\"data row3 col1\" >5</td>\n",
       "                        <td id=\"T_e42c6ac4_246e_11ea_a105_784f4382e058row3_col2\" class=\"data row3 col2\" >50</td>\n",
       "                        <td id=\"T_e42c6ac4_246e_11ea_a105_784f4382e058row3_col3\" class=\"data row3 col3\" >1.22%</td>\n",
       "                        <td id=\"T_e42c6ac4_246e_11ea_a105_784f4382e058row3_col4\" class=\"data row3 col4\" >4.55%</td>\n",
       "            </tr>\n",
       "            <tr>\n",
       "                        <th id=\"T_e42c6ac4_246e_11ea_a105_784f4382e058level0_row4\" class=\"row_heading level0 row4\" >7</th>\n",
       "                        <td id=\"T_e42c6ac4_246e_11ea_a105_784f4382e058row4_col0\" class=\"data row4 col0\" >250</td>\n",
       "                        <td id=\"T_e42c6ac4_246e_11ea_a105_784f4382e058row4_col1\" class=\"data row4 col1\" >50</td>\n",
       "                        <td id=\"T_e42c6ac4_246e_11ea_a105_784f4382e058row4_col2\" class=\"data row4 col2\" >50</td>\n",
       "                        <td id=\"T_e42c6ac4_246e_11ea_a105_784f4382e058row4_col3\" class=\"data row4 col3\" >0.56%</td>\n",
       "                        <td id=\"T_e42c6ac4_246e_11ea_a105_784f4382e058row4_col4\" class=\"data row4 col4\" >3.78%</td>\n",
       "            </tr>\n",
       "    </tbody></table>"
      ],
      "text/plain": [
       "<pandas.io.formats.style.Styler at 0x82013feb8>"
      ]
     },
     "execution_count": 8,
     "metadata": {},
     "output_type": "execute_result"
    }
   ],
   "source": [
    "xlim=30\n",
    "ylim=60\n",
    "table=table[table.is_pareto]\n",
    "table=table[table.Risk <= xlim]\n",
    "table=table[table.Return <= ylim]\n",
    "del table['is_pareto']\n",
    "table.style.format({'Return': \"{:.2%}\", 'Risk': '{:.2%}'})"
   ]
  },
  {
   "cell_type": "code",
   "execution_count": null,
   "metadata": {},
   "outputs": [],
   "source": []
  }
 ],
 "metadata": {
  "anaconda-cloud": {},
  "kernelspec": {
   "display_name": "Python 3",
   "language": "python",
   "name": "python3"
  },
  "language_info": {
   "codemirror_mode": {
    "name": "ipython",
    "version": 3
   },
   "file_extension": ".py",
   "mimetype": "text/x-python",
   "name": "python",
   "nbconvert_exporter": "python",
   "pygments_lexer": "ipython3",
   "version": "3.7.3"
  }
 },
 "nbformat": 4,
 "nbformat_minor": 2
}
