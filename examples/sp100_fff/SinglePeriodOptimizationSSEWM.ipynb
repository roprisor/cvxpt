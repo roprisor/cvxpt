{
 "cells": [
  {
   "cell_type": "markdown",
   "metadata": {},
   "source": [
    "# S&P 100 Optimization - Single Stock EWM"
   ]
  },
  {
   "cell_type": "code",
   "execution_count": 36,
   "metadata": {},
   "outputs": [],
   "source": [
    "import os\n",
    "import sys\n",
    "import datetime as dt\n",
    "\n",
    "config = {'name': 'rebalance_sim',\n",
    "          'universe':\n",
    "              {'path': '/Users/razvan/PyRepo/xr_simulation/data/SP100.csv',\n",
    "               'ticker_col' : 'Symbol',\n",
    "               'risk_free_symbol': 'USDOLLAR'},\n",
    "          'data':\n",
    "              {'name': 'eod_returns',\n",
    "               'source': 'quandl',\n",
    "               'table': 'EOD',\n",
    "               'api_key': \"6XyApK2BBj_MraQg2TMD\",\n",
    "               'freq': 'monthly'},\n",
    "          'model':\n",
    "              {'start_date': '20100102',\n",
    "               'end_date': '20171231',\n",
    "               'alpha': 0.1,\n",
    "               'min_periods': 10,\n",
    "               'horizon': 1,\n",
    "               'lambda': 0.25,\n",
    "               'data_dir': '/Users/razvan/PyRepo/xr_simulation/models/'},\n",
    "          'risk': 'SS'\n",
    "         }"
   ]
  },
  {
   "cell_type": "code",
   "execution_count": 37,
   "metadata": {
    "scrolled": true
   },
   "outputs": [
    {
     "name": "stdout",
     "output_type": "stream",
     "text": [
      "Typical variance of returns: 0.00451237\n"
     ]
    }
   ],
   "source": [
    "%matplotlib inline\n",
    "\n",
    "import pandas as pd\n",
    "import numpy as np\n",
    "import matplotlib.pyplot as plt\n",
    "import cvxportfolio as cp\n",
    "import alphamodel as am\n",
    "\n",
    "# Train the alpha model\n",
    "ss = am.SingleStockEWM(config)\n",
    "ss.train(force=True)\n",
    "\n",
    "# Realized Data for Simulation\n",
    "returns = ss.realized['returns']\n",
    "volumes = ss.realized['volumes']\n",
    "sigmas = ss.realized['sigmas']\n",
    "\n",
    "w_b = pd.Series(index=returns.columns, data=1)\n",
    "w_b.USDOLLAR = 0.\n",
    "w_b/=sum(w_b)\n",
    "\n",
    "simulated_tcost = cp.TcostModel(half_spread=0.0005/2., nonlin_coeff=1., sigma=sigmas, volume=volumes)\n",
    "simulated_hcost = cp.HcostModel(borrow_costs=0.0001)\n",
    "simulator = cp.MarketSimulator(returns, costs=[simulated_tcost, simulated_hcost],\n",
    "                               market_volumes=volumes, cash_key=ss.risk_free_symbol)\n",
    "\n",
    "# Predicted Data for Optimization\n",
    "ss.predict()\n",
    "returns_pred = ss.predicted['returns']\n",
    "volumes_pred = ss.predicted['volumes']\n",
    "sigmas_pred = ss.predicted['sigmas']\n",
    "covariance_pred = ss.predicted['covariance']\n",
    "\n",
    "optimization_tcost = cp.TcostModel(half_spread=0.0005/2., nonlin_coeff=1.,\n",
    "                                   sigma=sigmas_pred,\n",
    "                                   volume=volumes_pred)\n",
    "optimization_hcost=cp.HcostModel(borrow_costs=0.0001)\n",
    "\n",
    "if config['risk'] == 'SS':\n",
    "    risk_model = cp.FullSigma(covariance_pred)\n",
    "#elif config['risk'] == 'FF':\n",
    "#    risk_model = cp.FactorModelSigma(estimate_data.exposures, estimate_data.factor_sigma, estimate_data.idyos)\n",
    "else:\n",
    "    raise NotImplemented('The %s risk model is not implemented yet'.format(config['risk']))\n",
    "\n",
    "results={}"
   ]
  },
  {
   "cell_type": "code",
   "execution_count": 1,
   "metadata": {},
   "outputs": [],
   "source": [
    "#ss.prediction_quality()"
   ]
  },
  {
   "cell_type": "markdown",
   "metadata": {},
   "source": [
    "# SPO Pareto search "
   ]
  },
  {
   "cell_type": "code",
   "execution_count": 43,
   "metadata": {},
   "outputs": [],
   "source": [
    "results_pareto={}"
   ]
  },
  {
   "cell_type": "markdown",
   "metadata": {},
   "source": [
    "### Sparse Pareto"
   ]
  },
  {
   "cell_type": "code",
   "execution_count": 50,
   "metadata": {},
   "outputs": [
    {
     "name": "stdout",
     "output_type": "stream",
     "text": [
      "CPU times: user 2.38 s, sys: 905 ms, total: 3.28 s\n",
      "Wall time: 2min 35s\n"
     ]
    }
   ],
   "source": [
    "%%time\n",
    "policies={}\n",
    "gamma_risks_pareto=[0.1, 0.178, 0.316, 0.562, 1, 2, 3, 6, 10, 18, 32, 56, 100, 178, 316, 562, 1000]\n",
    "#gamma_tcosts_pareto=[5, 6, 7, 8]\n",
    "gamma_holdings=[0.1, 1, 10, 100, 1000]\n",
    "gamma_tcosts_pareto=[2.5, 5, 7.5, 10]\n",
    "\n",
    "start_date = dt.datetime.strptime(config['model']['start_date'], '%Y%m%d') + dt.timedelta(days=10*40)\n",
    "end_date = dt.datetime.strptime(config['model']['end_date'], '%Y%m%d')\n",
    "\n",
    "for gamma_risk in gamma_risks_pareto:\n",
    "    for gamma_tcost in gamma_tcosts_pareto : \n",
    "        for gamma_holding in gamma_holdings:\n",
    "            policies[(gamma_risk, gamma_tcost, gamma_holding)] = \\\n",
    "          cp.SinglePeriodOpt(returns_pred,\n",
    "                             [gamma_risk*risk_model,gamma_tcost*optimization_tcost,\\\n",
    "                                       gamma_holding*optimization_hcost], \n",
    "                                [cp.LeverageLimit(1)])\n",
    "# cp.LeverageLimit(1)\n",
    "# cp.LongOnly()\n",
    "\n",
    "import warnings\n",
    "warnings.filterwarnings('ignore')\n",
    "results_pareto.update(dict(zip(policies.keys(),\n",
    "                               simulator.run_multiple_backtest(1E8*w_b,\n",
    "                                                               start_time=start_date.strftime('%Y-%m-%d'),\n",
    "                                                               end_time=end_date.strftime('%Y-%m-%d'),\n",
    "                                                               policies=policies.values(), ppy=12, parallel=True))))"
   ]
  },
  {
   "cell_type": "code",
   "execution_count": 45,
   "metadata": {
    "scrolled": true
   },
   "outputs": [
    {
     "data": {
      "text/html": [
       "<style  type=\"text/css\" >\n",
       "</style><table id=\"T_fcb83850_462b_11ea_a1f3_82cb16cb8c01\" ><thead>    <tr>        <th class=\"blank level0\" ></th>        <th class=\"col_heading level0 col0\" >$\\gamma^\\mathrm{risk}$</th>        <th class=\"col_heading level0 col1\" >$\\gamma^\\mathrm{trade}$</th>        <th class=\"col_heading level0 col2\" >$\\gamma^\\mathrm{hold}$</th>        <th class=\"col_heading level0 col3\" >Return</th>        <th class=\"col_heading level0 col4\" >Risk</th>        <th class=\"col_heading level0 col5\" >is_pareto</th>    </tr></thead><tbody>\n",
       "                <tr>\n",
       "                        <th id=\"T_fcb83850_462b_11ea_a1f3_82cb16cb8c01level0_row0\" class=\"row_heading level0 row0\" >0</th>\n",
       "                        <td id=\"T_fcb83850_462b_11ea_a1f3_82cb16cb8c01row0_col0\" class=\"data row0 col0\" >10</td>\n",
       "                        <td id=\"T_fcb83850_462b_11ea_a1f3_82cb16cb8c01row0_col1\" class=\"data row0 col1\" >1</td>\n",
       "                        <td id=\"T_fcb83850_462b_11ea_a1f3_82cb16cb8c01row0_col2\" class=\"data row0 col2\" >10</td>\n",
       "                        <td id=\"T_fcb83850_462b_11ea_a1f3_82cb16cb8c01row0_col3\" class=\"data row0 col3\" >13.44%</td>\n",
       "                        <td id=\"T_fcb83850_462b_11ea_a1f3_82cb16cb8c01row0_col4\" class=\"data row0 col4\" >14.49%</td>\n",
       "                        <td id=\"T_fcb83850_462b_11ea_a1f3_82cb16cb8c01row0_col5\" class=\"data row0 col5\" >False</td>\n",
       "            </tr>\n",
       "            <tr>\n",
       "                        <th id=\"T_fcb83850_462b_11ea_a1f3_82cb16cb8c01level0_row1\" class=\"row_heading level0 row1\" >1</th>\n",
       "                        <td id=\"T_fcb83850_462b_11ea_a1f3_82cb16cb8c01row1_col0\" class=\"data row1 col0\" >10</td>\n",
       "                        <td id=\"T_fcb83850_462b_11ea_a1f3_82cb16cb8c01row1_col1\" class=\"data row1 col1\" >5</td>\n",
       "                        <td id=\"T_fcb83850_462b_11ea_a1f3_82cb16cb8c01row1_col2\" class=\"data row1 col2\" >10</td>\n",
       "                        <td id=\"T_fcb83850_462b_11ea_a1f3_82cb16cb8c01row1_col3\" class=\"data row1 col3\" >13.98%</td>\n",
       "                        <td id=\"T_fcb83850_462b_11ea_a1f3_82cb16cb8c01row1_col4\" class=\"data row1 col4\" >13.94%</td>\n",
       "                        <td id=\"T_fcb83850_462b_11ea_a1f3_82cb16cb8c01row1_col5\" class=\"data row1 col5\" >False</td>\n",
       "            </tr>\n",
       "            <tr>\n",
       "                        <th id=\"T_fcb83850_462b_11ea_a1f3_82cb16cb8c01level0_row2\" class=\"row_heading level0 row2\" >2</th>\n",
       "                        <td id=\"T_fcb83850_462b_11ea_a1f3_82cb16cb8c01row2_col0\" class=\"data row2 col0\" >10</td>\n",
       "                        <td id=\"T_fcb83850_462b_11ea_a1f3_82cb16cb8c01row2_col1\" class=\"data row2 col1\" >10</td>\n",
       "                        <td id=\"T_fcb83850_462b_11ea_a1f3_82cb16cb8c01row2_col2\" class=\"data row2 col2\" >10</td>\n",
       "                        <td id=\"T_fcb83850_462b_11ea_a1f3_82cb16cb8c01row2_col3\" class=\"data row2 col3\" >14.55%</td>\n",
       "                        <td id=\"T_fcb83850_462b_11ea_a1f3_82cb16cb8c01row2_col4\" class=\"data row2 col4\" >12.78%</td>\n",
       "                        <td id=\"T_fcb83850_462b_11ea_a1f3_82cb16cb8c01row2_col5\" class=\"data row2 col5\" >True</td>\n",
       "            </tr>\n",
       "            <tr>\n",
       "                        <th id=\"T_fcb83850_462b_11ea_a1f3_82cb16cb8c01level0_row3\" class=\"row_heading level0 row3\" >3</th>\n",
       "                        <td id=\"T_fcb83850_462b_11ea_a1f3_82cb16cb8c01row3_col0\" class=\"data row3 col0\" >10</td>\n",
       "                        <td id=\"T_fcb83850_462b_11ea_a1f3_82cb16cb8c01row3_col1\" class=\"data row3 col1\" >1000</td>\n",
       "                        <td id=\"T_fcb83850_462b_11ea_a1f3_82cb16cb8c01row3_col2\" class=\"data row3 col2\" >10</td>\n",
       "                        <td id=\"T_fcb83850_462b_11ea_a1f3_82cb16cb8c01row3_col3\" class=\"data row3 col3\" >13.86%</td>\n",
       "                        <td id=\"T_fcb83850_462b_11ea_a1f3_82cb16cb8c01row3_col4\" class=\"data row3 col4\" >10.27%</td>\n",
       "                        <td id=\"T_fcb83850_462b_11ea_a1f3_82cb16cb8c01row3_col5\" class=\"data row3 col5\" >True</td>\n",
       "            </tr>\n",
       "            <tr>\n",
       "                        <th id=\"T_fcb83850_462b_11ea_a1f3_82cb16cb8c01level0_row4\" class=\"row_heading level0 row4\" >4</th>\n",
       "                        <td id=\"T_fcb83850_462b_11ea_a1f3_82cb16cb8c01row4_col0\" class=\"data row4 col0\" >10</td>\n",
       "                        <td id=\"T_fcb83850_462b_11ea_a1f3_82cb16cb8c01row4_col1\" class=\"data row4 col1\" >100</td>\n",
       "                        <td id=\"T_fcb83850_462b_11ea_a1f3_82cb16cb8c01row4_col2\" class=\"data row4 col2\" >10</td>\n",
       "                        <td id=\"T_fcb83850_462b_11ea_a1f3_82cb16cb8c01row4_col3\" class=\"data row4 col3\" >8.45%</td>\n",
       "                        <td id=\"T_fcb83850_462b_11ea_a1f3_82cb16cb8c01row4_col4\" class=\"data row4 col4\" >7.82%</td>\n",
       "                        <td id=\"T_fcb83850_462b_11ea_a1f3_82cb16cb8c01row4_col5\" class=\"data row4 col5\" >False</td>\n",
       "            </tr>\n",
       "            <tr>\n",
       "                        <th id=\"T_fcb83850_462b_11ea_a1f3_82cb16cb8c01level0_row5\" class=\"row_heading level0 row5\" >5</th>\n",
       "                        <td id=\"T_fcb83850_462b_11ea_a1f3_82cb16cb8c01row5_col0\" class=\"data row5 col0\" >100</td>\n",
       "                        <td id=\"T_fcb83850_462b_11ea_a1f3_82cb16cb8c01row5_col1\" class=\"data row5 col1\" >1</td>\n",
       "                        <td id=\"T_fcb83850_462b_11ea_a1f3_82cb16cb8c01row5_col2\" class=\"data row5 col2\" >10</td>\n",
       "                        <td id=\"T_fcb83850_462b_11ea_a1f3_82cb16cb8c01row5_col3\" class=\"data row5 col3\" >4.08%</td>\n",
       "                        <td id=\"T_fcb83850_462b_11ea_a1f3_82cb16cb8c01row5_col4\" class=\"data row5 col4\" >7.52%</td>\n",
       "                        <td id=\"T_fcb83850_462b_11ea_a1f3_82cb16cb8c01row5_col5\" class=\"data row5 col5\" >False</td>\n",
       "            </tr>\n",
       "            <tr>\n",
       "                        <th id=\"T_fcb83850_462b_11ea_a1f3_82cb16cb8c01level0_row6\" class=\"row_heading level0 row6\" >6</th>\n",
       "                        <td id=\"T_fcb83850_462b_11ea_a1f3_82cb16cb8c01row6_col0\" class=\"data row6 col0\" >100</td>\n",
       "                        <td id=\"T_fcb83850_462b_11ea_a1f3_82cb16cb8c01row6_col1\" class=\"data row6 col1\" >5</td>\n",
       "                        <td id=\"T_fcb83850_462b_11ea_a1f3_82cb16cb8c01row6_col2\" class=\"data row6 col2\" >10</td>\n",
       "                        <td id=\"T_fcb83850_462b_11ea_a1f3_82cb16cb8c01row6_col3\" class=\"data row6 col3\" >4.38%</td>\n",
       "                        <td id=\"T_fcb83850_462b_11ea_a1f3_82cb16cb8c01row6_col4\" class=\"data row6 col4\" >7.09%</td>\n",
       "                        <td id=\"T_fcb83850_462b_11ea_a1f3_82cb16cb8c01row6_col5\" class=\"data row6 col5\" >False</td>\n",
       "            </tr>\n",
       "            <tr>\n",
       "                        <th id=\"T_fcb83850_462b_11ea_a1f3_82cb16cb8c01level0_row7\" class=\"row_heading level0 row7\" >7</th>\n",
       "                        <td id=\"T_fcb83850_462b_11ea_a1f3_82cb16cb8c01row7_col0\" class=\"data row7 col0\" >100</td>\n",
       "                        <td id=\"T_fcb83850_462b_11ea_a1f3_82cb16cb8c01row7_col1\" class=\"data row7 col1\" >10</td>\n",
       "                        <td id=\"T_fcb83850_462b_11ea_a1f3_82cb16cb8c01row7_col2\" class=\"data row7 col2\" >10</td>\n",
       "                        <td id=\"T_fcb83850_462b_11ea_a1f3_82cb16cb8c01row7_col3\" class=\"data row7 col3\" >5.23%</td>\n",
       "                        <td id=\"T_fcb83850_462b_11ea_a1f3_82cb16cb8c01row7_col4\" class=\"data row7 col4\" >6.56%</td>\n",
       "                        <td id=\"T_fcb83850_462b_11ea_a1f3_82cb16cb8c01row7_col5\" class=\"data row7 col5\" >False</td>\n",
       "            </tr>\n",
       "            <tr>\n",
       "                        <th id=\"T_fcb83850_462b_11ea_a1f3_82cb16cb8c01level0_row8\" class=\"row_heading level0 row8\" >8</th>\n",
       "                        <td id=\"T_fcb83850_462b_11ea_a1f3_82cb16cb8c01row8_col0\" class=\"data row8 col0\" >100</td>\n",
       "                        <td id=\"T_fcb83850_462b_11ea_a1f3_82cb16cb8c01row8_col1\" class=\"data row8 col1\" >1000</td>\n",
       "                        <td id=\"T_fcb83850_462b_11ea_a1f3_82cb16cb8c01row8_col2\" class=\"data row8 col2\" >10</td>\n",
       "                        <td id=\"T_fcb83850_462b_11ea_a1f3_82cb16cb8c01row8_col3\" class=\"data row8 col3\" >10.47%</td>\n",
       "                        <td id=\"T_fcb83850_462b_11ea_a1f3_82cb16cb8c01row8_col4\" class=\"data row8 col4\" >6.43%</td>\n",
       "                        <td id=\"T_fcb83850_462b_11ea_a1f3_82cb16cb8c01row8_col5\" class=\"data row8 col5\" >True</td>\n",
       "            </tr>\n",
       "            <tr>\n",
       "                        <th id=\"T_fcb83850_462b_11ea_a1f3_82cb16cb8c01level0_row9\" class=\"row_heading level0 row9\" >9</th>\n",
       "                        <td id=\"T_fcb83850_462b_11ea_a1f3_82cb16cb8c01row9_col0\" class=\"data row9 col0\" >100</td>\n",
       "                        <td id=\"T_fcb83850_462b_11ea_a1f3_82cb16cb8c01row9_col1\" class=\"data row9 col1\" >100</td>\n",
       "                        <td id=\"T_fcb83850_462b_11ea_a1f3_82cb16cb8c01row9_col2\" class=\"data row9 col2\" >10</td>\n",
       "                        <td id=\"T_fcb83850_462b_11ea_a1f3_82cb16cb8c01row9_col3\" class=\"data row9 col3\" >4.21%</td>\n",
       "                        <td id=\"T_fcb83850_462b_11ea_a1f3_82cb16cb8c01row9_col4\" class=\"data row9 col4\" >5.02%</td>\n",
       "                        <td id=\"T_fcb83850_462b_11ea_a1f3_82cb16cb8c01row9_col5\" class=\"data row9 col5\" >True</td>\n",
       "            </tr>\n",
       "    </tbody></table>"
      ],
      "text/plain": [
       "<pandas.io.formats.style.Styler at 0x820375128>"
      ]
     },
     "execution_count": 45,
     "metadata": {},
     "output_type": "execute_result"
    }
   ],
   "source": [
    "# Create result table\n",
    "table=pd.DataFrame()\n",
    "table['rebalance'] = ['monthly' for x in results_pareto.keys()]\n",
    "table[r'$\\gamma^\\mathrm{risk}$']=[el[0] for el in results_pareto.keys()]\n",
    "table[r'$\\gamma^\\mathrm{trade}$']=[el[1] for el in results_pareto.keys()]\n",
    "table[r'$\\gamma^\\mathrm{hold}$']=['%g'%el[2] for el in results_pareto.keys()]\n",
    "table['Return']=[(results_pareto[k].annual_return) for k in results_pareto.keys()]\n",
    "table['Risk']=[(results_pareto[k].volatility) for k in results_pareto.keys()]\n",
    "table = table.sort_values('Risk', ascending=False).reset_index()\n",
    "del table['index']\n",
    "is_pareto = lambda i: table.loc[i,'Return']>=max(table.ix[i:].Return)\n",
    "table['is_pareto'] = [is_pareto(i) for i in range(len(table))]\n",
    "table.to_csv('spo_pareto_results_month.csv', float_format='%g')\n",
    "table.style.format({'Return': \"{:.2%}\", 'Risk': '{:.2%}'})"
   ]
  },
  {
   "cell_type": "markdown",
   "metadata": {},
   "source": [
    "## Efficient Frontier"
   ]
  },
  {
   "cell_type": "code",
   "execution_count": 46,
   "metadata": {},
   "outputs": [
    {
     "data": {
      "image/png": "[encoded data removed]",
      "text/plain": [
       "<Figure size 1080x504 with 1 Axes>"
      ]
     },
     "metadata": {
      "needs_background": "light"
     },
     "output_type": "display_data"
    }
   ],
   "source": [
    "plt.figure(figsize=(15,7))\n",
    "plt.scatter(table.Risk.values,table.Return.values)\n",
    "plt.plot(table[table.is_pareto].Risk,table[table.is_pareto].Return, 'C1.-', label='Pareto optimal frontier')\n",
    "plt.legend( loc='lower right')\n",
    "plt.xlabel('Risk')\n",
    "plt.ylabel('Return')\n",
    "plt.xlim([0,0.75])\n",
    "plt.ylim([0,0.6])\n",
    "\n",
    "import matplotlib.ticker as mtick\n",
    "ax = plt.gca()\n",
    "ax.xaxis.set_major_formatter(mtick.FormatStrFormatter('%.2f'))\n",
    "ax.yaxis.set_major_formatter(mtick.FormatStrFormatter('%.2f'))\n",
    "\n",
    "plt.savefig('spo_pareto_month.png')"
   ]
  },
  {
   "cell_type": "code",
   "execution_count": 48,
   "metadata": {},
   "outputs": [
    {
     "data": {
      "text/plain": [
       "<matplotlib.axes._subplots.AxesSubplot at 0x82457f400>"
      ]
     },
     "execution_count": 48,
     "metadata": {},
     "output_type": "execute_result"
    },
    {
     "data": {
      "image/png": "[encoded data removed]",
      "text/plain": [
       "<Figure size 432x288 with 1 Axes>"
      ]
     },
     "metadata": {
      "needs_background": "light"
     },
     "output_type": "display_data"
    }
   ],
   "source": [
    "results_pareto[(10, 1, 10)].v.plot()"
   ]
  },
  {
   "cell_type": "code",
   "execution_count": 3,
   "metadata": {},
   "outputs": [
    {
     "ename": "NameError",
     "evalue": "name 'results_pareto' is not defined",
     "output_type": "error",
     "traceback": [
      "\u001b[0;31m---------------------------------------------------------------------------\u001b[0m",
      "\u001b[0;31mNameError\u001b[0m                                 Traceback (most recent call last)",
      "\u001b[0;32m<ipython-input-3-7d03ccd4045b>\u001b[0m in \u001b[0;36m<module>\u001b[0;34m\u001b[0m\n\u001b[0;32m----> 1\u001b[0;31m \u001b[0mresults_pareto\u001b[0m\u001b[0;34m[\u001b[0m\u001b[0;36m0\u001b[0m\u001b[0;34m]\u001b[0m\u001b[0;34m.\u001b[0m\u001b[0msummary\u001b[0m\u001b[0;34m(\u001b[0m\u001b[0;34m)\u001b[0m\u001b[0;34m\u001b[0m\u001b[0;34m\u001b[0m\u001b[0m\n\u001b[0m",
      "\u001b[0;31mNameError\u001b[0m: name 'results_pareto' is not defined"
     ]
    }
   ],
   "source": [
    "results_pareto[0].summary()"
   ]
  },
  {
   "cell_type": "code",
   "execution_count": null,
   "metadata": {},
   "outputs": [],
   "source": []
  }
 ],
 "metadata": {
  "anaconda-cloud": {},
  "kernelspec": {
   "display_name": "Python 3",
   "language": "python",
   "name": "python3"
  },
  "language_info": {
   "codemirror_mode": {
    "name": "ipython",
    "version": 3
   },
   "file_extension": ".py",
   "mimetype": "text/x-python",
   "name": "python",
   "nbconvert_exporter": "python",
   "pygments_lexer": "ipython3",
   "version": "3.7.3"
  }
 },
 "nbformat": 4,
 "nbformat_minor": 2
}
